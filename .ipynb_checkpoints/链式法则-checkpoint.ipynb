{
 "cells": [
  {
   "cell_type": "markdown",
   "id": "aa393471",
   "metadata": {},
   "source": [
    "# 感知机\n",
    "## 多输出"
   ]
  },
  {
   "cell_type": "code",
   "execution_count": null,
   "id": "a0f929f3",
   "metadata": {},
   "outputs": [],
   "source": []
  }
 ],
 "metadata": {
  "kernelspec": {
   "display_name": "Python 3",
   "language": "python",
   "name": "python3"
  },
  "language_info": {
   "codemirror_mode": {
    "name": "ipython",
    "version": 3
   },
   "file_extension": ".py",
   "mimetype": "text/x-python",
   "name": "python",
   "nbconvert_exporter": "python",
   "pygments_lexer": "ipython3",
   "version": "3.6.13"
  }
 },
 "nbformat": 4,
 "nbformat_minor": 5
}
