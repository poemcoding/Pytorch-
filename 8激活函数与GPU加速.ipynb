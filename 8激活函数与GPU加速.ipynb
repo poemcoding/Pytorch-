{
 "cells": [
  {
   "attachments": {},
   "cell_type": "markdown",
   "metadata": {},
   "source": [
    "![](https://gitee.com/tracy_rui/figure-bed/raw/master/img/1.png)\n",
    "tanh 在RNN用的较多\n",
    "![](https://gitee.com/tracy_rui/figure-bed/raw/master/img/20210719001914.png)\n",
    "不会出现梯度爆炸与离散\n",
    "![](https://gitee.com/tracy_rui/figure-bed/raw/master/img/20210719002007.png)\n",
    "不至于<0梯度为0，$\\alpha$可以指定"
   ]
  },
  {
   "cell_type": "code",
   "execution_count": 1,
   "metadata": {},
   "outputs": [
    {
     "ename": "ModuleNotFoundError",
     "evalue": "No module named 'torch'",
     "output_type": "error",
     "traceback": [
      "\u001b[1;31m---------------------------------------------------------------------------\u001b[0m",
      "\u001b[1;31mModuleNotFoundError\u001b[0m                       Traceback (most recent call last)",
      "\u001b[1;32m<ipython-input-1-a933ad8ccfc6>\u001b[0m in \u001b[0;36m<module>\u001b[1;34m()\u001b[0m\n\u001b[1;32m----> 1\u001b[1;33m \u001b[1;32mimport\u001b[0m \u001b[0mtorch\u001b[0m\u001b[1;33m\u001b[0m\u001b[0m\n\u001b[0m\u001b[0;32m      2\u001b[0m \u001b[1;32mimport\u001b[0m \u001b[0mtorch\u001b[0m\u001b[1;33m.\u001b[0m\u001b[0mnn\u001b[0m \u001b[1;32mas\u001b[0m \u001b[0mnn\u001b[0m\u001b[1;33m\u001b[0m\u001b[0m\n",
      "\u001b[1;31mModuleNotFoundError\u001b[0m: No module named 'torch'"
     ]
    }
   ],
   "source": [
    "import torch\n",
    "import torch.nn as nn"
   ]
  },
  {
   "cell_type": "code",
   "execution_count": null,
   "metadata": {},
   "outputs": [],
   "source": [
    "self.model=nn.Sequential( \n",
    "            nn.Linear(784,200),\n",
    "            nn.LReLU(inplace=True),\n",
    "            nn.Linear(200,200),\n",
    "            nn.ReLU(inplace=True),\n",
    "            nn.Linear(200, 10),\n",
    "            nn.ReLU(inplace=True),\n",
    "        )"
   ]
  },
  {
   "attachments": {},
   "cell_type": "markdown",
   "metadata": {},
   "source": [
    "![](https://gitee.com/tracy_rui/figure-bed/raw/master/img/20210719002237.png)\n",
    "![](https://gitee.com/tracy_rui/figure-bed/raw/master/img/20210719002322.png)\n",
    "relu函数的平滑版本"
   ]
  },
  {
   "cell_type": "markdown",
   "metadata": {},
   "source": [
    "## GPU accelerated\n"
   ]
  },
  {
   "cell_type": "code",
   "execution_count": null,
   "metadata": {},
   "outputs": [],
   "source": [
    "# torch后来的版本对device做了抽象化处理，直接声明设备，之后to(device)即可，避免之前的.cpu(),.cuda()写法，导致代码的低复用性\n",
    "device=torch.device('cuda:0') \n",
    "net=MLP().to(device)\n",
    "optimizer=optim.SGD(net.parameters(),lr=learning_rate)\n",
    "criteon=nn.CrossEntropyLoss().to(device)\n",
    "\n",
    "for epoch in range(epochs):\n",
    "    \n",
    "    for batch_idx,(data,target) in enumerate(train_loader):\n",
    "        data=data.view(-1,28*28)\n",
    "        data,target=data.to(device),target.cuda()"
   ]
  }
 ],
 "metadata": {
  "kernelspec": {
   "display_name": "Python 3",
   "language": "python",
   "name": "python3"
  },
  "language_info": {
   "codemirror_mode": {
    "name": "ipython",
    "version": 3
   },
   "file_extension": ".py",
   "mimetype": "text/x-python",
   "name": "python",
   "nbconvert_exporter": "python",
   "pygments_lexer": "ipython3",
   "version": "3.7.0"
  }
 },
 "nbformat": 4,
 "nbformat_minor": 2
}
